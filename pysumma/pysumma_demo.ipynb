{
 "cells": [
  {
   "cell_type": "code",
   "execution_count": 1,
   "metadata": {},
   "outputs": [],
   "source": [
    "from pysumma.Decisions import Decisions"
   ]
  },
  {
   "cell_type": "code",
   "execution_count": 2,
   "metadata": {},
   "outputs": [],
   "source": [
    "D = Decisions('/home/hydro/Downloads/summaTestCases_2.x/settings/wrrPaperTestCases/figure01/summa_zDecisions_riparianAspenCLM2stream.txt')"
   ]
  },
  {
   "cell_type": "code",
   "execution_count": 3,
   "metadata": {},
   "outputs": [],
   "source": [
    "sim_start_time = D.simulStart"
   ]
  },
  {
   "cell_type": "code",
   "execution_count": 4,
   "metadata": {},
   "outputs": [
    {
     "data": {
      "text/plain": [
       "'2006-07-01 00:00'"
      ]
     },
     "execution_count": 4,
     "metadata": {},
     "output_type": "execute_result"
    }
   ],
   "source": [
    "sim_start_time.value"
   ]
  },
  {
   "cell_type": "code",
   "execution_count": 5,
   "metadata": {},
   "outputs": [],
   "source": [
    "sim_start_time.value = \"2006-07-01 00:00\""
   ]
  },
  {
   "cell_type": "code",
   "execution_count": 6,
   "metadata": {},
   "outputs": [],
   "source": [
    "sim_finish_time = D.simulFinsh"
   ]
  },
  {
   "cell_type": "code",
   "execution_count": 7,
   "metadata": {},
   "outputs": [
    {
     "data": {
      "text/plain": [
       "'2008-09-30 00:00'"
      ]
     },
     "execution_count": 7,
     "metadata": {},
     "output_type": "execute_result"
    }
   ],
   "source": [
    "sim_finish_time.value"
   ]
  },
  {
   "cell_type": "code",
   "execution_count": 8,
   "metadata": {},
   "outputs": [],
   "source": [
    "sim_finish_time.value = \"2007-09-30 00:00\""
   ]
  },
  {
   "cell_type": "code",
   "execution_count": 9,
   "metadata": {},
   "outputs": [],
   "source": [
    "soil_cat_dataset = D.soilCatTbl"
   ]
  },
  {
   "cell_type": "code",
   "execution_count": 10,
   "metadata": {},
   "outputs": [
    {
     "data": {
      "text/plain": [
       "'soilCatTbl'"
      ]
     },
     "execution_count": 10,
     "metadata": {},
     "output_type": "execute_result"
    }
   ],
   "source": [
    "soil_cat_dataset.name"
   ]
  },
  {
   "cell_type": "code",
   "execution_count": 11,
   "metadata": {},
   "outputs": [
    {
     "data": {
      "text/plain": [
       "'ROSETTA'"
      ]
     },
     "execution_count": 11,
     "metadata": {},
     "output_type": "execute_result"
    }
   ],
   "source": [
    "soil_cat_dataset.value"
   ]
  },
  {
   "cell_type": "code",
   "execution_count": 12,
   "metadata": {},
   "outputs": [
    {
     "data": {
      "text/plain": [
       "['STAS', 'STAS-RUC', 'ROSETTA']"
      ]
     },
     "execution_count": 12,
     "metadata": {},
     "output_type": "execute_result"
    }
   ],
   "source": [
    "soil_cat_dataset.options"
   ]
  },
  {
   "cell_type": "code",
   "execution_count": 13,
   "metadata": {},
   "outputs": [
    {
     "data": {
      "text/plain": [
       "'soil-category dateset'"
      ]
     },
     "execution_count": 13,
     "metadata": {},
     "output_type": "execute_result"
    }
   ],
   "source": [
    "soil_cat_dataset.description"
   ]
  },
  {
   "cell_type": "code",
   "execution_count": 14,
   "metadata": {},
   "outputs": [],
   "source": [
    "soil_cat_dataset.value = 'STAS-RUC'"
   ]
  },
  {
   "cell_type": "code",
   "execution_count": 15,
   "metadata": {},
   "outputs": [],
   "source": [
    "from pysumma.Simulation import Simulation"
   ]
  },
  {
   "cell_type": "code",
   "execution_count": 16,
   "metadata": {},
   "outputs": [],
   "source": [
    "S = Simulation('/home/hydro/Downloads/summaTestCases_2.x/settings/wrrPaperTestCases/figure01/summa_fileManager_riparianAspenCLM2stream.txt')"
   ]
  },
  {
   "cell_type": "code",
   "execution_count": 17,
   "metadata": {},
   "outputs": [],
   "source": [
    "setting_path = S.setting_path"
   ]
  },
  {
   "cell_type": "code",
   "execution_count": 18,
   "metadata": {},
   "outputs": [
    {
     "data": {
      "text/plain": [
       "'/home/hydro/Downloads/summaTestCases_2.x/settings/'"
      ]
     },
     "execution_count": 18,
     "metadata": {},
     "output_type": "execute_result"
    }
   ],
   "source": [
    "setting_path.filepath"
   ]
  },
  {
   "cell_type": "code",
   "execution_count": 19,
   "metadata": {},
   "outputs": [
    {
     "data": {
      "text/plain": [
       "'setting_path'"
      ]
     },
     "execution_count": 19,
     "metadata": {},
     "output_type": "execute_result"
    }
   ],
   "source": [
    "setting_path.name"
   ]
  },
  {
   "cell_type": "code",
   "execution_count": 20,
   "metadata": {},
   "outputs": [],
   "source": [
    "decision = S.decision_path"
   ]
  },
  {
   "cell_type": "code",
   "execution_count": 21,
   "metadata": {},
   "outputs": [
    {
     "data": {
      "text/plain": [
       "'wrrPaperTestCases/figure01/'"
      ]
     },
     "execution_count": 21,
     "metadata": {},
     "output_type": "execute_result"
    }
   ],
   "source": [
    "decision.filepath"
   ]
  },
  {
   "cell_type": "code",
   "execution_count": 22,
   "metadata": {},
   "outputs": [
    {
     "data": {
      "text/plain": [
       "'summa_zDecisions_riparianAspenCLM2stream.txt'"
      ]
     },
     "execution_count": 22,
     "metadata": {},
     "output_type": "execute_result"
    }
   ],
   "source": [
    "decision.filename"
   ]
  },
  {
   "cell_type": "code",
   "execution_count": 23,
   "metadata": {},
   "outputs": [
    {
     "data": {
      "text/plain": [
       "'decision'"
      ]
     },
     "execution_count": 23,
     "metadata": {},
     "output_type": "execute_result"
    }
   ],
   "source": [
    "decision.name"
   ]
  },
  {
   "cell_type": "code",
   "execution_count": 24,
   "metadata": {},
   "outputs": [],
   "source": [
    "S.executable = \"/home/hydro/Downloads/summa-master/bin/summa.exe\""
   ]
  },
  {
   "cell_type": "code",
   "execution_count": 25,
   "metadata": {},
   "outputs": [],
   "source": [
    "S.run_suffix = \"pysumma_demo\""
   ]
  },
  {
   "cell_type": "code",
   "execution_count": 26,
   "metadata": {},
   "outputs": [],
   "source": [
    "S.execute()"
   ]
  },
  {
   "cell_type": "code",
   "execution_count": 27,
   "metadata": {},
   "outputs": [],
   "source": [
    "from pysumma.Plotting import Plotting"
   ]
  },
  {
   "cell_type": "code",
   "execution_count": 28,
   "metadata": {},
   "outputs": [],
   "source": [
    "import matplotlib.pyplot as plt"
   ]
  },
  {
   "cell_type": "code",
   "execution_count": 29,
   "metadata": {},
   "outputs": [],
   "source": [
    "P = Plotting('/home/hydro/Downloads/summaTestCases_2.x/output/wrrPaperTestCases/figure01/vegImpactsRad_2006-2007_pysumma_demo_1.nc')"
   ]
  },
  {
   "cell_type": "code",
   "execution_count": 30,
   "metadata": {},
   "outputs": [
    {
     "name": "stdout",
     "output_type": "stream",
     "text": [
      "<xarray.Dataset>\n",
      "Dimensions:                  (hru: 1, ifcSoilAndTime: 153230, ifcTotoAndTime: 153230, midSoilAndTime: 153230, midTotoAndTime: 153230, time: 8737)\n",
      "Coordinates:\n",
      "  * time                     (time) datetime64[ns] 2006-10-01 ...\n",
      "  * hru                      (hru) int32 1\n",
      "Dimensions without coordinates: ifcSoilAndTime, ifcTotoAndTime, midSoilAndTime, midTotoAndTime\n",
      "Data variables:\n",
      "    pptrate                  (time, hru) float64 ...\n",
      "    airtemp                  (time, hru) float64 ...\n",
      "    basin__SurfaceRunoff     (time) float64 ...\n",
      "    basin__ColumnOutflow     (time) float64 ...\n",
      "    basin__AquiferStorage    (time) float64 ...\n",
      "    basin__AquiferRecharge   (time) float64 ...\n",
      "    basin__AquiferBaseflow   (time) float64 ...\n",
      "    basin__AquiferTranspire  (time) float64 ...\n",
      "    averageInstantRunoff     (time) float64 ...\n",
      "    averageRoutedRunoff      (time) float64 ...\n",
      "    nSnow                    (time, hru) int32 ...\n",
      "    nSoil                    (time, hru) int32 ...\n",
      "    nLayers                  (time, hru) int32 ...\n",
      "    midSoilStartIndex        (time, hru) int32 ...\n",
      "    midTotoStartIndex        (time, hru) int32 ...\n",
      "    ifcSoilStartIndex        (time, hru) int32 ...\n",
      "    ifcTotoStartIndex        (time, hru) int32 ...\n",
      "    scalarSWE                (time, hru) float64 ...\n",
      "    mLayerTemp               (midTotoAndTime, hru) float64 ...\n",
      "    mLayerVolFracIce         (midTotoAndTime, hru) float64 ...\n",
      "    mLayerVolFracLiq         (midTotoAndTime, hru) float64 ...\n",
      "    mLayerVolFracWat         (midTotoAndTime, hru) float64 ...\n",
      "    mLayerMatricHead         (midSoilAndTime, hru) float64 ...\n",
      "    scalarSurfaceTemp        (time, hru) float64 ...\n",
      "    mLayerDepth              (midTotoAndTime, hru) float64 ...\n",
      "    iLayerHeight             (ifcTotoAndTime, hru) float64 ...\n",
      "    scalarSenHeatTotal       (time, hru) float64 ...\n",
      "    scalarLatHeatTotal       (time, hru) float64 ...\n",
      "    scalarSnowSublimation    (time, hru) float64 ...\n",
      "    scalarThroughfallSnow    (time, hru) float64 ...\n",
      "    scalarThroughfallRain    (time, hru) float64 ...\n",
      "    scalarRainPlusMelt       (time, hru) float64 ...\n",
      "    scalarInfiltration       (time, hru) float64 ...\n",
      "    scalarExfiltration       (time, hru) float64 ...\n",
      "    scalarSurfaceRunoff      (time, hru) float64 ...\n",
      "    iLayerLiqFluxSoil        (ifcSoilAndTime, hru) float64 ...\n",
      "    mLayerLiqFluxSoil        (midSoilAndTime, hru) float64 ...\n",
      "Attributes:\n",
      "    soilStress:       NoahType\n",
      "    stomResist:       BallBerry\n",
      "    num_method:       itertive\n",
      "    fDerivMeth:       analytic\n",
      "    LAI_method:       specified\n",
      "    notPopulatedYet:  notPopulatedYet\n",
      "    f_Richards:       mixdform\n",
      "    groundwatr:       noXplict\n",
      "    hc_profile:       constant\n",
      "    bcUpprTdyn:       nrg_flux\n",
      "    bcLowrTdyn:       zeroFlux\n",
      "    bcUpprSoiH:       liq_flux\n",
      "    bcLowrSoiH:       drainage\n",
      "    veg_traits:       CM_QJRMS1998\n",
      "    canopyEmis:       difTrans\n",
      "    snowIncept:       lightSnow\n",
      "    windPrfile:       logBelowCanopy\n",
      "    astability:       louisinv\n",
      "    canopySrad:       CLM_2stream\n",
      "    alb_method:       varDecay\n",
      "    snowLayers:       CLM_2010\n",
      "    compaction:       anderson\n",
      "    thCondSnow:       jrdn1991\n",
      "    thCondSoil:       mixConstit\n",
      "    spatial_gw:       localColumn\n",
      "    subRouting:       timeDlay\n"
     ]
    }
   ],
   "source": [
    "P_info = P.open_netcdf()"
   ]
  },
  {
   "cell_type": "code",
   "execution_count": 31,
   "metadata": {},
   "outputs": [
    {
     "name": "stderr",
     "output_type": "stream",
     "text": [
      "/home/hydro/miniconda3/lib/python3.6/site-packages/xarray/plot/utils.py:51: FutureWarning: 'pandas.tseries.converter.register' has been moved and renamed to 'pandas.plotting.register_matplotlib_converters'. \n",
      "  converter.register()\n"
     ]
    },
    {
     "data": {
      "text/plain": [
       "[<matplotlib.lines.Line2D at 0x7f59fc795908>]"
      ]
     },
     "execution_count": 31,
     "metadata": {},
     "output_type": "execute_result"
    },
    {
     "data": {
      "image/png": "[encoded data removed]",
      "text/plain": [
       "<matplotlib.figure.Figure at 0x7f5a042faf60>"
      ]
     },
     "metadata": {},
     "output_type": "display_data"
    }
   ],
   "source": [
    "P.plot_1d(P_info, 5)"
   ]
  },
  {
   "cell_type": "code",
   "execution_count": 32,
   "metadata": {},
   "outputs": [
    {
     "data": {
      "text/plain": [
       "[<matplotlib.lines.Line2D at 0x7f59fc6dcf98>]"
      ]
     },
     "execution_count": 32,
     "metadata": {},
     "output_type": "execute_result"
    },
    {
     "data": {
      "image/png": "[encoded data removed]",
      "text/plain": [
       "<matplotlib.figure.Figure at 0x7f5a04f83eb8>"
      ]
     },
     "metadata": {},
     "output_type": "display_data"
    }
   ],
   "source": [
    "P.plot_1d_hru(P_info, 0, 17)"
   ]
  },
  {
   "cell_type": "code",
   "execution_count": 33,
   "metadata": {},
   "outputs": [
    {
     "data": {
      "text/plain": [
       "[<matplotlib.lines.Line2D at 0x7f59fc6a6470>]"
      ]
     },
     "execution_count": 33,
     "metadata": {},
     "output_type": "execute_result"
    },
    {
     "data": {
      "image/png": "[encoded data removed]",
      "text/plain": [
       "<matplotlib.figure.Figure at 0x7f59fc6737b8>"
      ]
     },
     "metadata": {},
     "output_type": "display_data"
    }
   ],
   "source": [
    "P.plot_1d_layer(P_info, 0, 26, 14)"
   ]
  },
  {
   "cell_type": "code",
   "execution_count": 35,
   "metadata": {},
   "outputs": [],
   "source": [
    "from pysumma.layers import layers\n",
    "import xarray as xr\n",
    "import geopandas as gp"
   ]
  },
  {
   "cell_type": "code",
   "execution_count": 36,
   "metadata": {},
   "outputs": [],
   "source": [
    "ds = xr.open_dataset('/home/hydro/Downloads/summaTestCases_2.x/output/wrrPaperTestCases/figure01/vegImpactsRad_2006-2007_pysumma_demo_1.nc').isel(hru=0)"
   ]
  },
  {
   "cell_type": "code",
   "execution_count": 37,
   "metadata": {},
   "outputs": [
    {
     "data": {
      "text/plain": [
       "(<matplotlib.figure.Figure at 0x7f59f361c080>,\n",
       " <matplotlib.axes._subplots.AxesSubplot at 0x7f59f361c9b0>)"
      ]
     },
     "execution_count": 37,
     "metadata": {},
     "output_type": "execute_result"
    },
    {
     "data": {
      "image/png": "[encoded data removed]",
      "text/plain": [
       "<matplotlib.figure.Figure at 0x7f59f361c080>"
      ]
     },
     "metadata": {},
     "output_type": "display_data"
    }
   ],
   "source": [
    "layers(ds.isel(time=slice(0,500)), 'mLayerVolFracWat')"
   ]
  },
  {
   "cell_type": "code",
   "execution_count": null,
   "metadata": {},
   "outputs": [],
   "source": []
  }
 ],
 "metadata": {
  "kernelspec": {
   "display_name": "Python 3",
   "language": "python",
   "name": "python3"
  },
  "language_info": {
   "codemirror_mode": {
    "name": "ipython",
    "version": 3
   },
   "file_extension": ".py",
   "mimetype": "text/x-python",
   "name": "python",
   "nbconvert_exporter": "python",
   "pygments_lexer": "ipython3",
   "version": "3.6.3"
  }
 },
 "nbformat": 4,
 "nbformat_minor": 2
}
