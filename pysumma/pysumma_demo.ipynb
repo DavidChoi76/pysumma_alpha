{
 "cells": [
  {
   "cell_type": "markdown",
   "metadata": {},
   "source": [
    "#  pysumma Examples "
   ]
  },
  {
   "cell_type": "markdown",
   "metadata": {},
   "source": [
    "### _pysumma is object oriented python wrapper for SUMMA Model (Structure for Unifying Multiple Modeling Alternatives)_"
   ]
  },
  {
   "cell_type": "markdown",
   "metadata": {},
   "source": [
    "## (1) manipulating file Manager file"
   ]
  },
  {
   "cell_type": "markdown",
   "metadata": {},
   "source": [
    "### 1) import Simulation Module"
   ]
  },
  {
   "cell_type": "code",
   "execution_count": 1,
   "metadata": {},
   "outputs": [],
   "source": [
    "from pysumma.Simulation import Simulation"
   ]
  },
  {
   "cell_type": "markdown",
   "metadata": {},
   "source": [
    "### 2) read file_Manager text file and create S attribute"
   ]
  },
  {
   "cell_type": "code",
   "execution_count": 2,
   "metadata": {},
   "outputs": [],
   "source": [
    "S = Simulation('/home/hydro/Downloads/summaTestCases_2.x/settings/wrrPaperTestCases/figure01/summa_fileManager_riparianAspenCLM2stream.txt')"
   ]
  },
  {
   "cell_type": "markdown",
   "metadata": {},
   "source": [
    "### 3) make attribute of decision and get filepath"
   ]
  },
  {
   "cell_type": "code",
   "execution_count": 3,
   "metadata": {},
   "outputs": [
    {
     "data": {
      "text/plain": [
       "'wrrPaperTestCases/figure01/'"
      ]
     },
     "execution_count": 3,
     "metadata": {},
     "output_type": "execute_result"
    }
   ],
   "source": [
    "S.decision_path.filepath"
   ]
  },
  {
   "cell_type": "markdown",
   "metadata": {},
   "source": [
    "### 4) get filename of decision attribute"
   ]
  },
  {
   "cell_type": "code",
   "execution_count": 4,
   "metadata": {},
   "outputs": [
    {
     "data": {
      "text/plain": [
       "'summa_zDecisions_riparianAspenCLM2stream.txt'"
      ]
     },
     "execution_count": 4,
     "metadata": {},
     "output_type": "execute_result"
    }
   ],
   "source": [
    "S.decision_path.filename"
   ]
  },
  {
   "cell_type": "markdown",
   "metadata": {},
   "source": [
    "### 5) get name of decision attribute"
   ]
  },
  {
   "cell_type": "code",
   "execution_count": 5,
   "metadata": {
    "scrolled": true
   },
   "outputs": [
    {
     "data": {
      "text/plain": [
       "'decision'"
      ]
     },
     "execution_count": 5,
     "metadata": {},
     "output_type": "execute_result"
    }
   ],
   "source": [
    "S.decision_path.name"
   ]
  },
  {
   "cell_type": "markdown",
   "metadata": {},
   "source": [
    "## (2) manipulating Decision text file."
   ]
  },
  {
   "cell_type": "markdown",
   "metadata": {},
   "source": [
    "### 1) read Decision text file and create D attribute"
   ]
  },
  {
   "cell_type": "code",
   "execution_count": 6,
   "metadata": {},
   "outputs": [],
   "source": [
    "D = S.decision_obj\n",
    "#D = Decisions(setting_path.filepath + decision.filepath + decision.filename)"
   ]
  },
  {
   "cell_type": "markdown",
   "metadata": {},
   "source": [
    "### 2) make attribute and get default value of simulation start date and time"
   ]
  },
  {
   "cell_type": "code",
   "execution_count": 7,
   "metadata": {},
   "outputs": [
    {
     "data": {
      "text/plain": [
       "'2006-07-01 00:00'"
      ]
     },
     "execution_count": 7,
     "metadata": {},
     "output_type": "execute_result"
    }
   ],
   "source": [
    "D.simulStart.value"
   ]
  },
  {
   "cell_type": "markdown",
   "metadata": {},
   "source": [
    "### 3) set value of simulation start date and time in Decision text file"
   ]
  },
  {
   "cell_type": "code",
   "execution_count": 8,
   "metadata": {},
   "outputs": [],
   "source": [
    "D.simulStart.value = \"2006-07-01 00:00\""
   ]
  },
  {
   "cell_type": "markdown",
   "metadata": {},
   "source": [
    "### 4) set value of simulation finish date and time in Decision text file"
   ]
  },
  {
   "cell_type": "code",
   "execution_count": 9,
   "metadata": {},
   "outputs": [],
   "source": [
    "D.simulFinsh.value = \"2007-09-30 00:00\""
   ]
  },
  {
   "cell_type": "markdown",
   "metadata": {},
   "source": [
    "### 5) make attribute for (03) soil category dataset and get abstract method name "
   ]
  },
  {
   "cell_type": "code",
   "execution_count": 10,
   "metadata": {},
   "outputs": [
    {
     "data": {
      "text/plain": [
       "'soilCatTbl'"
      ]
     },
     "execution_count": 10,
     "metadata": {},
     "output_type": "execute_result"
    }
   ],
   "source": [
    "D.soilCatTbl.name"
   ]
  },
  {
   "cell_type": "markdown",
   "metadata": {},
   "source": [
    "### 6) get default value in Decision text file"
   ]
  },
  {
   "cell_type": "code",
   "execution_count": 11,
   "metadata": {},
   "outputs": [
    {
     "data": {
      "text/plain": [
       "'STAS-RUC'"
      ]
     },
     "execution_count": 11,
     "metadata": {},
     "output_type": "execute_result"
    }
   ],
   "source": [
    "D.soilCatTbl.value"
   ]
  },
  {
   "cell_type": "markdown",
   "metadata": {},
   "source": [
    "### 7) get available options for (03) soil category dataset"
   ]
  },
  {
   "cell_type": "code",
   "execution_count": 12,
   "metadata": {},
   "outputs": [
    {
     "data": {
      "text/plain": [
       "['STAS', 'STAS-RUC', 'ROSETTA']"
      ]
     },
     "execution_count": 12,
     "metadata": {},
     "output_type": "execute_result"
    }
   ],
   "source": [
    "D.soilCatTbl.options"
   ]
  },
  {
   "cell_type": "markdown",
   "metadata": {},
   "source": [
    "### 8) get description for (03) soil category dataset"
   ]
  },
  {
   "cell_type": "code",
   "execution_count": 13,
   "metadata": {},
   "outputs": [
    {
     "data": {
      "text/plain": [
       "'soil-category dateset'"
      ]
     },
     "execution_count": 13,
     "metadata": {},
     "output_type": "execute_result"
    }
   ],
   "source": [
    "D.soilCatTbl.description"
   ]
  },
  {
   "cell_type": "markdown",
   "metadata": {},
   "source": [
    "### 9) set option for (03) soil category dataset"
   ]
  },
  {
   "cell_type": "code",
   "execution_count": 14,
   "metadata": {},
   "outputs": [],
   "source": [
    "D.soilCatTbl.value = 'STAS-RUC'"
   ]
  },
  {
   "cell_type": "markdown",
   "metadata": {},
   "source": [
    "## (3) running summa model."
   ]
  },
  {
   "cell_type": "markdown",
   "metadata": {},
   "source": [
    "### 1) create S.executable attribute and get summa executable file"
   ]
  },
  {
   "cell_type": "code",
   "execution_count": 15,
   "metadata": {},
   "outputs": [],
   "source": [
    "S.executable = \"/home/hydro/Downloads/summa-master/bin/summa.exe\""
   ]
  },
  {
   "cell_type": "markdown",
   "metadata": {},
   "source": [
    "### 2) set suffix for output filename"
   ]
  },
  {
   "cell_type": "code",
   "execution_count": 16,
   "metadata": {},
   "outputs": [],
   "source": [
    "S.run_suffix = \"pysumma_demo\""
   ]
  },
  {
   "cell_type": "markdown",
   "metadata": {},
   "source": [
    "### 3) run summa model"
   ]
  },
  {
   "cell_type": "code",
   "execution_count": 17,
   "metadata": {},
   "outputs": [],
   "source": [
    "S.execute()"
   ]
  },
  {
   "cell_type": "markdown",
   "metadata": {},
   "source": [
    "## (4) displaying summa output"
   ]
  },
  {
   "cell_type": "markdown",
   "metadata": {},
   "source": [
    "### - plotting line plot with variables (1D, 2D)"
   ]
  },
  {
   "cell_type": "markdown",
   "metadata": {},
   "source": [
    "### 1) import Plotting Module"
   ]
  },
  {
   "cell_type": "code",
   "execution_count": 18,
   "metadata": {},
   "outputs": [],
   "source": [
    "from pysumma.Plotting import Plotting\n",
    "from jupyterthemes import jtplot\n",
    "jtplot.figsize(x=10, y=10)"
   ]
  },
  {
   "cell_type": "markdown",
   "metadata": {},
   "source": [
    "### 2) get netCDF file and create P attribute"
   ]
  },
  {
   "cell_type": "code",
   "execution_count": 19,
   "metadata": {},
   "outputs": [],
   "source": [
    "P = Plotting(S.output_path.filepath + S.output_prefix.value+'_' + D.simulStart.value[0:4] + '-' + D.simulFinsh.value[0:4] + '_' + S.run_suffix + '_1.nc')"
   ]
  },
  {
   "cell_type": "markdown",
   "metadata": {},
   "source": [
    "### 3) open and read netCDF file and create P_info attribute"
   ]
  },
  {
   "cell_type": "code",
   "execution_count": 20,
   "metadata": {},
   "outputs": [
    {
     "name": "stdout",
     "output_type": "stream",
     "text": [
      "<xarray.Dataset>\n",
      "Dimensions:                  (hru: 1, ifcSoilAndTime: 153230, ifcTotoAndTime: 153230, midSoilAndTime: 153230, midTotoAndTime: 153230, time: 8737)\n",
      "Coordinates:\n",
      "  * time                     (time) datetime64[ns] 2006-10-01 ...\n",
      "  * hru                      (hru) int32 1\n",
      "Dimensions without coordinates: ifcSoilAndTime, ifcTotoAndTime, midSoilAndTime, midTotoAndTime\n",
      "Data variables:\n",
      "    pptrate                  (time, hru) float64 ...\n",
      "    airtemp                  (time, hru) float64 ...\n",
      "    basin__SurfaceRunoff     (time) float64 ...\n",
      "    basin__ColumnOutflow     (time) float64 ...\n",
      "    basin__AquiferStorage    (time) float64 ...\n",
      "    basin__AquiferRecharge   (time) float64 ...\n",
      "    basin__AquiferBaseflow   (time) float64 ...\n",
      "    basin__AquiferTranspire  (time) float64 ...\n",
      "    averageInstantRunoff     (time) float64 ...\n",
      "    averageRoutedRunoff      (time) float64 ...\n",
      "    nSnow                    (time, hru) int32 ...\n",
      "    nSoil                    (time, hru) int32 ...\n",
      "    nLayers                  (time, hru) int32 ...\n",
      "    midSoilStartIndex        (time, hru) int32 ...\n",
      "    midTotoStartIndex        (time, hru) int32 ...\n",
      "    ifcSoilStartIndex        (time, hru) int32 ...\n",
      "    ifcTotoStartIndex        (time, hru) int32 ...\n",
      "    scalarSWE                (time, hru) float64 ...\n",
      "    mLayerTemp               (midTotoAndTime, hru) float64 ...\n",
      "    mLayerVolFracIce         (midTotoAndTime, hru) float64 ...\n",
      "    mLayerVolFracLiq         (midTotoAndTime, hru) float64 ...\n",
      "    mLayerVolFracWat         (midTotoAndTime, hru) float64 ...\n",
      "    mLayerMatricHead         (midSoilAndTime, hru) float64 ...\n",
      "    scalarSurfaceTemp        (time, hru) float64 ...\n",
      "    mLayerDepth              (midTotoAndTime, hru) float64 ...\n",
      "    iLayerHeight             (ifcTotoAndTime, hru) float64 ...\n",
      "    scalarSenHeatTotal       (time, hru) float64 ...\n",
      "    scalarLatHeatTotal       (time, hru) float64 ...\n",
      "    scalarSnowSublimation    (time, hru) float64 ...\n",
      "    scalarThroughfallSnow    (time, hru) float64 ...\n",
      "    scalarThroughfallRain    (time, hru) float64 ...\n",
      "    scalarRainPlusMelt       (time, hru) float64 ...\n",
      "    scalarInfiltration       (time, hru) float64 ...\n",
      "    scalarExfiltration       (time, hru) float64 ...\n",
      "    scalarSurfaceRunoff      (time, hru) float64 ...\n",
      "    iLayerLiqFluxSoil        (ifcSoilAndTime, hru) float64 ...\n",
      "    mLayerLiqFluxSoil        (midSoilAndTime, hru) float64 ...\n",
      "Attributes:\n",
      "    soilStress:       NoahType\n",
      "    stomResist:       BallBerry\n",
      "    num_method:       itertive\n",
      "    fDerivMeth:       analytic\n",
      "    LAI_method:       specified\n",
      "    notPopulatedYet:  notPopulatedYet\n",
      "    f_Richards:       mixdform\n",
      "    groundwatr:       noXplict\n",
      "    hc_profile:       constant\n",
      "    bcUpprTdyn:       nrg_flux\n",
      "    bcLowrTdyn:       zeroFlux\n",
      "    bcUpprSoiH:       liq_flux\n",
      "    bcLowrSoiH:       drainage\n",
      "    veg_traits:       CM_QJRMS1998\n",
      "    canopyEmis:       difTrans\n",
      "    snowIncept:       lightSnow\n",
      "    windPrfile:       logBelowCanopy\n",
      "    astability:       louisinv\n",
      "    canopySrad:       CLM_2stream\n",
      "    alb_method:       varDecay\n",
      "    snowLayers:       CLM_2010\n",
      "    compaction:       anderson\n",
      "    thCondSnow:       jrdn1991\n",
      "    thCondSoil:       mixConstit\n",
      "    spatial_gw:       localColumn\n",
      "    subRouting:       timeDlay\n"
     ]
    }
   ],
   "source": [
    "P_info = P.open_netcdf()"
   ]
  },
  {
   "cell_type": "markdown",
   "metadata": {},
   "source": [
    "### 4) Display 1D (netCDF, variable[basin__AquiferRecharge]) with time series"
   ]
  },
  {
   "cell_type": "markdown",
   "metadata": {},
   "source": [
    "*variables = [ ['basin SurfaceRunoff','2'], ['basin  ColumnOutflow','3'],        ['basin  AquiferStorage','4'], ['basin  AquiferRecharge', '5'],            ['basin  AquiferBaseflow', '6'], ['basin  AquiferTranspire','7'],                    ['averageInstantRunoff', '8'], ['averageRoutedRunoff', '9'] ] *"
   ]
  },
  {
   "cell_type": "code",
   "execution_count": 21,
   "metadata": {
    "scrolled": true
   },
   "outputs": [
    {
     "name": "stderr",
     "output_type": "stream",
     "text": [
      "/home/hydro/miniconda3/lib/python3.6/site-packages/xarray/plot/utils.py:51: FutureWarning: 'pandas.tseries.converter.register' has been moved and renamed to 'pandas.plotting.register_matplotlib_converters'. \n",
      "  converter.register()\n"
     ]
    },
    {
     "data": {
      "image/png": "[encoded data removed]",
      "text/plain": [
       "<matplotlib.figure.Figure at 0x7fb7f9b6a3c8>"
      ]
     },
     "metadata": {},
     "output_type": "display_data"
    }
   ],
   "source": [
    "P.plot_1d(P_info, 5)"
   ]
  },
  {
   "cell_type": "markdown",
   "metadata": {},
   "source": [
    "### 5) Display 1D_hru (netCDF, hru, variable[scalarSWE]) with time series"
   ]
  },
  {
   "cell_type": "markdown",
   "metadata": {},
   "source": [
    "*variable  = [ ['pptrate','0'], ['airtemp','1'], ['nSnow','10'], ['nSoil','11'],\n",
    "                  ['nLayers','12'], ['midSoilStartIndex','13'], ['midTotoStartIndex','14'], \n",
    "                  ['ifcSoilStartIndex','15'], ['ifcTotoStartIndex','16'], ['scalarSWE','17'],\n",
    "                  ['scalarSurfaceTemp','23'], ['scalarSenHeatTotal','27'],\n",
    "                  ['scalarLatHeatTotal','28'], ['scalarSnowSublimation','29'],\n",
    "                  ['scalarThroughfallSnow','30'], ['scalarThroughfallRain','31'],\n",
    "                  ['scalarRainPlusMelt','32'], ['scalarInfiltration','33'],\n",
    "                  ['scalarExfiltration','34'], ['scalarSurfaceRunoff','35'] ]*"
   ]
  },
  {
   "cell_type": "code",
   "execution_count": 22,
   "metadata": {
    "scrolled": false
   },
   "outputs": [
    {
     "data": {
      "image/png": "[encoded data removed]",
      "text/plain": [
       "<matplotlib.figure.Figure at 0x7fb7f8732240>"
      ]
     },
     "metadata": {},
     "output_type": "display_data"
    }
   ],
   "source": [
    "P.plot_1d_hru(P_info, 0, 17)"
   ]
  },
  {
   "cell_type": "markdown",
   "metadata": {},
   "source": [
    "### 6) Display 1D_layer (netCDF, hru, variable[iLayerHeight], layer time[midTotoStartIndex]) with time series"
   ]
  },
  {
   "cell_type": "markdown",
   "metadata": {},
   "source": [
    "*variable = [ ['mLayerTemp','18'], ['mLayerVolFracIce','19'], ['mLayerVolFracLiq','20'], \n",
    "                  ['mLayerVolFracWat','21'],  ['mLayerMatricHead','22'], ['mLayerDepth','24'],  \n",
    "                  ['mLayerHeight','25'],  ['iLayerHeight','26'], ['iLayerLiqFluxSoil','36'], \n",
    "                  ['mLayerLiqFluxSoil','37'] ]*\n",
    "                  \n",
    "*layer_time = [ ['midSoilStartIndex','13'], ['midTotoStartIndex','14'], \n",
    "              ['ifcSoilStartIndex','15'], ['ifcTotoStartIndex','16'] ]*    "
   ]
  },
  {
   "cell_type": "code",
   "execution_count": 23,
   "metadata": {
    "scrolled": false
   },
   "outputs": [
    {
     "data": {
      "image/png": "[encoded data removed]",
      "text/plain": [
       "<matplotlib.figure.Figure at 0x7fb7f0b81da0>"
      ]
     },
     "metadata": {},
     "output_type": "display_data"
    }
   ],
   "source": [
    "P.plot_1d_layer(P_info, 0, 26, 14)"
   ]
  },
  {
   "cell_type": "markdown",
   "metadata": {},
   "source": [
    "### - Display plot from summa_plot repository created by andrew bennett from UW"
   ]
  },
  {
   "cell_type": "markdown",
   "metadata": {},
   "source": [
    "### 1) import hovmoller, layers modules"
   ]
  },
  {
   "cell_type": "code",
   "execution_count": 24,
   "metadata": {},
   "outputs": [],
   "source": [
    "from pysumma.hovmoller import hovmoller\n",
    "from pysumma.layers import layers\n",
    "import xarray as xr\n",
    "jtplot.figsize(x=10,y=10)"
   ]
  },
  {
   "cell_type": "markdown",
   "metadata": {},
   "source": [
    "### 2) get netCDF file and create ds attribute"
   ]
  },
  {
   "cell_type": "code",
   "execution_count": 25,
   "metadata": {},
   "outputs": [],
   "source": [
    "ds = xr.open_dataset(S.output_path.filepath + S.output_prefix.value+'_' + D.simulStart.value[0:4] + '-' + D.simulFinsh.value[0:4] + '_' + S.run_suffix + '_1.nc')"
   ]
  },
  {
   "cell_type": "markdown",
   "metadata": {},
   "source": [
    "### 3) plot hovmoller module about air temp"
   ]
  },
  {
   "cell_type": "code",
   "execution_count": 26,
   "metadata": {},
   "outputs": [
    {
     "name": "stdout",
     "output_type": "stream",
     "text": [
      "False True False True\n"
     ]
    },
    {
     "name": "stderr",
     "output_type": "stream",
     "text": [
      "/home/hydro/miniconda3/lib/python3.6/site-packages/xarray/core/dtypes.py:23: FutureWarning: Conversion of the second argument of issubdtype from `float` to `np.floating` is deprecated. In future, it will be treated as `np.float64 == np.dtype(float).type`.\n",
      "  if np.issubdtype(dtype, float):\n"
     ]
    },
    {
     "data": {
      "image/png": "[encoded data removed]",
      "text/plain": [
       "<matplotlib.figure.Figure at 0x7fb7f0ae68d0>"
      ]
     },
     "metadata": {},
     "output_type": "display_data"
    }
   ],
   "source": [
    "hovmoller(ds['airtemp'], xdim='hour', ydim='dayofyear')"
   ]
  },
  {
   "cell_type": "markdown",
   "metadata": {},
   "source": [
    "### 4) plot layers graph module about mLayerVolFracWat"
   ]
  },
  {
   "cell_type": "code",
   "execution_count": 27,
   "metadata": {},
   "outputs": [
    {
     "data": {
      "image/png": "[encoded data removed]",
      "text/plain": [
       "<matplotlib.figure.Figure at 0x7fb7efce9f60>"
      ]
     },
     "metadata": {},
     "output_type": "display_data"
    }
   ],
   "source": [
    "da = ds.isel(hru=0)\n",
    "layers(da.isel(time=slice(0,500)), 'mLayerVolFracWat')"
   ]
  },
  {
   "cell_type": "code",
   "execution_count": null,
   "metadata": {},
   "outputs": [],
   "source": []
  }
 ],
 "metadata": {
  "kernelspec": {
   "display_name": "Python 3",
   "language": "python",
   "name": "python3"
  },
  "language_info": {
   "codemirror_mode": {
    "name": "ipython",
    "version": 3
   },
   "file_extension": ".py",
   "mimetype": "text/x-python",
   "name": "python",
   "nbconvert_exporter": "python",
   "pygments_lexer": "ipython3",
   "version": "3.6.3"
  }
 },
 "nbformat": 4,
 "nbformat_minor": 2
}
